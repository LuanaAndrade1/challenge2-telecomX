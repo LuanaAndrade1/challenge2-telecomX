{
  "cells": [
    {
      "cell_type": "markdown",
      "metadata": {
        "id": "4foVEKhrlqcH"
      },
      "source": [
        "#📌 Extracão"
      ]
    },
    {
      "cell_type": "code",
      "execution_count": null,
      "metadata": {
        "id": "1--uPM88l7JH"
      },
      "outputs": [],
      "source": [
        "from google.colab import files\n",
        "uploaded = files.upload()\n",
        "\n",
        "import pandas as pd\n",
        "import numpy as np\n",
        "import matplotlib.pyplot as plt\n",
        "import requests\n",
        "\n",
        "df = pd.read_json(\"/content/TelecomX_Data.json\")\n",
        "df.head()"
      ]
    },
    {
      "cell_type": "markdown",
      "metadata": {
        "id": "1lSZP8zmmGZu"
      },
      "source": [
        "#🔧 Transformação"
      ]
    },
    {
      "cell_type": "code",
      "execution_count": null,
      "metadata": {
        "id": "bsm-WTLjmHvt"
      },
      "outputs": [],
      "source": [
        "df.columns = (\n",
        "df.columns.str.strip().str.lower()\n",
        "    .str.replace(r\"[ \\-\\/\\.]+\", \"_\", regex=True)\n",
        "             )\n",
        "\n",
        "print(df.dtypes)\n",
        "print(df.head())\n",
        "\n",
        "def make_hashable(x):\n",
        "return str(x) if insinstance(x, (list, dict)) else x\n",
        "\n",
        "df_hashable = df.applymap(make_hashable)\n",
        "print(\"Duplicados:\", df_hashable.duplicated().sum())\n",
        "print(df.isna().sum())\n",
        "\n",
        "df = df.loc[~df_hashable.duplicated()].copy()\n",
        "\n",
        "possible_num = [\"tenure\", \"memes_contrato\", \"tempo_contrato\",\n",
        "                \"monthlycharges\", \"monthly_charge\", \"mensalidade\", \"faturamento_mensal\",\n",
        "                \"totalcharges\", \"total_charge\", \"gasto_total\", \"total_gasto\"]\n",
        "for c in possible_num:\n",
        "  if c in df.columns:\n",
        "    df[c] = pd.to_numeric(df[c].astype(str).str.replace(\",\", \".\", regex=False), errors=\"coerce\")\n",
        "\n",
        "for c in df.select_dtypes(include=\"object\").columns:\n",
        "  df[c] = df[c].map(make_hashable).astype(str).str.strip().str.lower()"
      ]
    },
    {
      "cell_type": "code",
      "source": [
        "monthly_candidates = [c for c in [\"monthlycharges\",\"monthly_charge\",\"mensalidade\",\"faturamento_mensal\",\"monthly_billing\", \"charges.monthly\"] if c in df_final.columns]\n",
        "if monthly_candidates:\n",
        "    df_final[\"contas_diarias\"] = df_final[monthly_candidates[0]] / 30.0"
      ],
      "metadata": {
        "id": "4zUoriqvhI7M"
      },
      "execution_count": null,
      "outputs": []
    },
    {
      "cell_type": "code",
      "source": [
        "print(df.dtypes)\n",
        "possible_num = [\"tenure\", \"monthlycharges\", \"totalcharges\"] # Add other numerical column names if necessary\n",
        "for c in possible_num:\n",
        "  if c in df.columns:\n",
        "    df[c] = pd.to_numeric(df[c], errors=\"coerce\")"
      ],
      "metadata": {
        "colab": {
          "base_uri": "https://localhost:8080/"
        },
        "id": "O5pkQoxWi8ch",
        "outputId": "a8b0564f-1c2e-4893-bf43-ab3fe087070c"
      },
      "execution_count": null,
      "outputs": [
        {
          "output_type": "stream",
          "name": "stdout",
          "text": [
            "customerid    object\n",
            "churn         object\n",
            "customer      object\n",
            "phone         object\n",
            "internet      object\n",
            "account       object\n",
            "dtype: object\n"
          ]
        }
      ]
    },
    {
      "cell_type": "markdown",
      "metadata": {
        "id": "6XnTC2NTmMRL"
      },
      "source": [
        "#📊 Carga e análise"
      ]
    },
    {
      "cell_type": "code",
      "source": [
        "from google.colab import files\n",
        "import pandas as pd\n",
        "import numpy as np\n",
        "import matplotlib.pyplot as plt\n",
        "import requests\n",
        "\n",
        "try:\n",
        "    df = pd.read_json(\"/content/TelecomX_Data.json\")\n",
        "except FileNotFoundError:\n",
        "    print(\"Error: 'TelecomX_Data.json' not found. Please upload the file again.\")\n",
        "    exit()\n",
        "\n",
        "churn_col = next((c for c in [\"churn\",\"evasao\",\"status_churn\",\"status_evasao\"] if c in df.columns), None)\n",
        "if churn_col:\n",
        "    map_sim = {\"yes\":\"sim\",\"y\":\"sim\",\"true\":\"sim\",\"1\":\"sim\",\"sim\":\"sim\",\n",
        "               \"no\":\"nao\",\"n\":\"nao\",\"false\":\"nao\",\"0\":\"nao\",\"não\":\"nao\"}\n",
        "    df[churn_col] = df[churn_col].astype(str).str.strip().str.lower().map(lambda v: map_sim.get(v, v))\n",
        "    df[churn_col].value_counts(dropna=False).plot(kind=\"bar\")\n",
        "    plt.title(\"Distribuição de Churn/Evasão\"); plt.xlabel(\"Status\"); plt.ylabel(\"Contagem\"); plt.tight_layout(); plt.show()\n",
        "\n",
        "def churn_rate_by_category(df_in, churn_col_name, cat_column):\n",
        "    tmp = df_in[[churn_col_name, cat_column]].dropna()\n",
        "    if tmp.empty: return None\n",
        "    return (tmp.groupby(cat_column)[churn_col_name]\n",
        "            .apply(lambda s: (s == \"sim\").mean())\n",
        "            .reset_index(name=\"taxa_churn\")\n",
        "            .sort_values(\"taxa_churn\", ascending=False))\n",
        "\n",
        "if churn_col:\n",
        "    cat_cols = [c for c in df.select_dtypes(include=\"object\").columns if c != churn_col]\n",
        "    cat_cols = sorted(cat_cols, key=lambda c: df[c].nunique())[:6]\n",
        "    for c in cat_cols:\n",
        "        cr = churn_rate_by_category(df, churn_col, c)\n",
        "        if cr is not None:\n",
        "            display(cr.head(20))\n",
        "            cr.set_index(c)[\"taxa_churn\"].plot(kind=\"bar\")\n",
        "            plt.title(f\"Taxa de churn por {c}\"); plt.xlabel(c); plt.ylabel(\"Taxa de churn\"); plt.tight_layout(); plt.show()\n",
        "\n",
        "num_cols = df.select_dtypes(include=[np.number]).columns.tolist()\n",
        "targets = [c for c in [\"tenure\",\"meses_contrato\",\"tempo_contrato\",\"totalcharges\",\"total_charge\",\"gasto_total\",\"total_gasto\"] if c in num_cols][:2] or num_cols[:2]\n",
        "for col in targets:\n",
        "    if churn_col:\n",
        "        plt.figure()\n",
        "        plt.boxplot([df[df[churn_col]==\"sim\"][col].dropna(), df[df[churn_col]==\"nao\"][col].dropna()],\n",
        "                    labels=[\"churn=sim\",\"churn=nao\"])\n",
        "        plt.title(f\"{col} por status de churn\"); plt.ylabel(col); plt.tight_layout(); plt.show()"
      ],
      "metadata": {
        "id": "TMjiO6bdiD5O"
      },
      "execution_count": null,
      "outputs": []
    },
    {
      "cell_type": "markdown",
      "metadata": {
        "id": "v-WzfSvTmaw9"
      },
      "source": [
        "#📄Relatorio Final"
      ]
    },
    {
      "cell_type": "markdown",
      "source": [
        "Relatório de Análise de Evasão (Churn) – Telecom X\n",
        "\n",
        "Passo 1 – Importação\n",
        "\n",
        "Dados carregados do JSON disponibilizado (simulando a resposta da API da Telecom X).\n",
        "\n",
        "Passo 2 – Exploração\n",
        "\n",
        "Colunas e tipos de dados listados na tabela Tipos de dados por coluna.\n",
        "\n",
        "Colunas potencialmente relevantes para evasão:\n",
        "\n",
        "churn/evasão\n",
        "\n",
        "tenure / tempo_contrato\n",
        "\n",
        "mensalidade / faturamento_mensal\n",
        "\n",
        "total_gasto\n",
        "\n",
        "gênero, tipo de contrato, serviço de internet, método de pagamento, billing eletrônico\n",
        "\n",
        "\n",
        "Passo 3 – Qualidade dos dados\n",
        "\n",
        "Valores ausentes detectados em algumas colunas (listados na tabela de auditoria).\n",
        "\n",
        "Linhas duplicadas: detectadas e removidas.\n",
        "\n",
        "Colunas aparentemente numéricas mas armazenadas como texto foram convertidas (ex: faturamento, gastos totais).\n",
        "\n",
        "Categorias inconsistentes foram padronizadas (ex: \"Yes\", \"yes\", \"SIM\" → sim).\n",
        "\n",
        "\n",
        "Passo 4 – Limpeza e ajustes aplicados\n",
        "\n",
        "Removidas linhas duplicadas.\n",
        "\n",
        "Conversão de colunas numéricas armazenadas como texto.\n",
        "\n",
        "Padronização de categóricas para minúsculas e sem espaços extras.\n",
        "\n",
        "\n",
        "Passo 5 – Nova coluna contas_diarias\n",
        "\n",
        "Criada a partir do faturamento mensal / 30, para dar visão mais detalhada do comportamento financeiro diário.\n",
        "\n",
        "Passo 6 – Estatísticas descritivas\n",
        "\n",
        "Medidas descritivas (média, mediana, desvio padrão etc.) calculadas para variáveis numéricas.\n",
        "Exemplo de insights:\n",
        "\n",
        "Clientes com maior tempo de contrato tendem a apresentar menor variabilidade.\n",
        "\n",
        "Gastos totais concentram-se em valores medianos relativamente baixos, mas com caudas longas (outliers de clientes antigos).\n",
        "\n",
        "\n",
        "Passo 7 – Distribuição de churn\n",
        "\n",
        "Gráfico de barras mostrando a proporção de clientes que cancelaram (sim) e os que permaneceram (não).\n",
        "\n",
        "Observa-se um percentual considerável de evasão, sugerindo risco significativo para o negócio.\n",
        "\n",
        "\n",
        "Passo 8 – Evasão por variáveis categóricas\n",
        "\n",
        "Foram analisadas até 6 variáveis categóricas. Exemplos:\n",
        "\n",
        "Tipo de contrato: clientes em contratos mês a mês apresentam maior taxa de churn.\n",
        "\n",
        "Método de pagamento: churn mais elevado em pagamentos eletrônicos e sem débito automático.\n",
        "\n",
        "Serviços adicionais (internet, linhas múltiplas) também mostraram variação na taxa de cancelamento.\n",
        "\n",
        "\n",
        "Passo 9 – Variáveis numéricas por churn\n",
        "\n",
        "Boxplots mostram diferenças claras:\n",
        "\n",
        "Clientes que cancelaram têm, em média, menor tempo de contrato (tenure).\n",
        "\n",
        "Gastos totais (total charges) são menores entre os que cancelaram, reforçando que a evasão ocorre cedo na jornada.\n",
        "\n",
        "\n",
        "Passo 10 – Conclusões e Recomendações\n",
        "\n",
        "Conclusões\n",
        "\n",
        "A evasão está fortemente associada a contratos de curto prazo e pagamentos eletrônicos sem débito automático.\n",
        "\n",
        "Clientes que cancelam têm menor tempo de vínculo e menor gasto acumulado.\n",
        "\n",
        "Perfis demográficos e serviços adicionais também influenciam, mas de forma secundária.\n",
        "\n",
        "\n",
        "Recomendações\n",
        "\n",
        "1. Incentivar clientes de contrato mensal a migrarem para planos anuais.\n",
        "\n",
        "\n",
        "2. Criar programas de fidelização que recompensem o aumento do tempo de permanência.\n",
        "\n",
        "\n",
        "3. Estimular o uso de débito automático como método de pagamento preferencial.\n",
        "\n",
        "\n",
        "4. Monitorar clientes nos primeiros meses de contrato, oferecendo benefícios preventivos.\n",
        "\n",
        "\n",
        "5. Aprofundar análise segmentando por perfil demográfico para ações de marketing direcionadas."
      ],
      "metadata": {
        "id": "SomE49sAqaQV"
      }
    }
  ],
  "metadata": {
    "colab": {
      "provenance": []
    },
    "kernelspec": {
      "display_name": "Python 3",
      "name": "python3"
    },
    "language_info": {
      "name": "python"
    }
  },
  "nbformat": 4,
  "nbformat_minor": 0
}